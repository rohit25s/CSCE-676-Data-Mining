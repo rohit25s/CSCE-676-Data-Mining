{
  "cells": [
    {
      "cell_type": "markdown",
      "metadata": {
        "id": "FUStugfzWud2"
      },
      "source": [
        "## CSCE 676 :: Data Mining and Analysis :: Texas A&M University :: Spring 2022\n",
        "\n",
        "\n",
        "# Homework 2\n",
        "\n",
        "- **100 points [7% of your final grade]**\n",
        "- **Due Sunday, March 6 by 11:59pm** \n",
        "- (*no submissions accepted after March 9 by 11:59pm*)\n",
        "\n",
        "**Goals of this homework:** There are four objectives of this homework: \n",
        "\n",
        "* Become familiar with Apache Spark;\n",
        "* Get hands-on experience using Spark built-in functions like PageRank;\n",
        "* Work out Hubs and Authorities by hand;\n",
        "* Try some LSH problems.\n",
        "\n",
        "*Submission instructions:* You should post your notebook to canvas (look for the homework 2 assignment there). Name your submission **your-uin_hw2.ipynb**, so for example, my submission would be something like **555001234_hw2.ipynb**. Your notebook should be fully executed when you submit ... so run all the cells for us so we can see the output, then submit that. When you are done, download your notebook from colab and submit it to canvas.\n",
        "\n",
        "*Collaboration declaration:* If you worked with someone on this homework, please be sure to mention that. Remember to include citations to any sources you use in the homework."
      ]
    },
    {
      "cell_type": "markdown",
      "metadata": {
        "id": "eql4ThhZt5lL"
      },
      "source": [
        "*Write your collaboration/references here*"
      ]
    },
    {
      "cell_type": "markdown",
      "metadata": {
        "id": "3AQt_pCoWueB"
      },
      "source": [
        "## Preliminaries: Introduction to the Dataset\n",
        "We will use a dataset of tweets concerning members of the US congress. The data spans almost a year (from October 3rd, 2018 to September 25th, 2019) covering 576 of the members. Any tweet or retweet posted by the 576 members or directed to them by other Twitter users were collected.\n",
        "\n",
        "Originally there were more than 200 million tweets collected but we have sampled 400,000 tweets for this homework.\n",
        "\n",
        "Below is a summary of all datasets used for this homework:\n",
        "\n",
        "| Dataset                        | Description |\n",
        "| :---                                                       | :---\n",
        "| Congress members               | 576 twitter ids and screen names |\n",
        "| Sample tweets                  |400k sample tweets|\n",
        "| ~~User hashtags~~                  | ~~all pairs of <user, hashtag>~~|\n",
        "| User mentions                  | all pairs of <src_user_id, src_dest_id, frequency> |\n",
        "\n"
      ]
    },
    {
      "cell_type": "markdown",
      "metadata": {
        "id": "tQ8cZb5cg5Im"
      },
      "source": [
        "Following are the steps that you need to execute to install spark. Remember you need to execute them everytime after your runtime is disconnected"
      ]
    },
    {
      "cell_type": "code",
      "execution_count": 1,
      "metadata": {
        "colab": {
          "base_uri": "https://localhost:8080/"
        },
        "id": "3xiQ6bMbXITQ",
        "outputId": "0ae28d14-65cc-45f5-fe42-d5fd322da827"
      },
      "outputs": [
        {
          "output_type": "stream",
          "name": "stdout",
          "text": [
            "Collecting pyspark\n",
            "  Downloading pyspark-3.2.1.tar.gz (281.4 MB)\n",
            "\u001b[K     |████████████████████████████████| 281.4 MB 32 kB/s \n",
            "\u001b[?25hCollecting py4j==0.10.9.3\n",
            "  Downloading py4j-0.10.9.3-py2.py3-none-any.whl (198 kB)\n",
            "\u001b[K     |████████████████████████████████| 198 kB 50.1 MB/s \n",
            "\u001b[?25hBuilding wheels for collected packages: pyspark\n",
            "  Building wheel for pyspark (setup.py) ... \u001b[?25l\u001b[?25hdone\n",
            "  Created wheel for pyspark: filename=pyspark-3.2.1-py2.py3-none-any.whl size=281853642 sha256=03fd0307839b4007ce8e6a320507cb83161d7313fdad783b5c2a2049bde0e2a1\n",
            "  Stored in directory: /root/.cache/pip/wheels/9f/f5/07/7cd8017084dce4e93e84e92efd1e1d5334db05f2e83bcef74f\n",
            "Successfully built pyspark\n",
            "Installing collected packages: py4j, pyspark\n",
            "Successfully installed py4j-0.10.9.3 pyspark-3.2.1\n",
            "Collecting graphframes\n",
            "  Downloading graphframes-0.6-py2.py3-none-any.whl (18 kB)\n",
            "Requirement already satisfied: numpy in /usr/local/lib/python3.7/dist-packages (from graphframes) (1.21.5)\n",
            "Collecting nose\n",
            "  Downloading nose-1.3.7-py3-none-any.whl (154 kB)\n",
            "\u001b[K     |████████████████████████████████| 154 kB 5.3 MB/s \n",
            "\u001b[?25hInstalling collected packages: nose, graphframes\n",
            "Successfully installed graphframes-0.6 nose-1.3.7\n",
            "The following package was automatically installed and is no longer required:\n",
            "  libnvidia-common-470\n",
            "Use 'apt autoremove' to remove it.\n",
            "The following additional packages will be installed:\n",
            "  openjdk-8-jre-headless\n",
            "Suggested packages:\n",
            "  openjdk-8-demo openjdk-8-source libnss-mdns fonts-dejavu-extra\n",
            "  fonts-ipafont-gothic fonts-ipafont-mincho fonts-wqy-microhei\n",
            "  fonts-wqy-zenhei fonts-indic\n",
            "The following NEW packages will be installed:\n",
            "  openjdk-8-jdk-headless openjdk-8-jre-headless\n",
            "0 upgraded, 2 newly installed, 0 to remove and 39 not upgraded.\n",
            "Need to get 36.5 MB of archives.\n",
            "After this operation, 143 MB of additional disk space will be used.\n",
            "Selecting previously unselected package openjdk-8-jre-headless:amd64.\n",
            "(Reading database ... 155320 files and directories currently installed.)\n",
            "Preparing to unpack .../openjdk-8-jre-headless_8u312-b07-0ubuntu1~18.04_amd64.deb ...\n",
            "Unpacking openjdk-8-jre-headless:amd64 (8u312-b07-0ubuntu1~18.04) ...\n",
            "Selecting previously unselected package openjdk-8-jdk-headless:amd64.\n",
            "Preparing to unpack .../openjdk-8-jdk-headless_8u312-b07-0ubuntu1~18.04_amd64.deb ...\n",
            "Unpacking openjdk-8-jdk-headless:amd64 (8u312-b07-0ubuntu1~18.04) ...\n",
            "Setting up openjdk-8-jre-headless:amd64 (8u312-b07-0ubuntu1~18.04) ...\n",
            "update-alternatives: using /usr/lib/jvm/java-8-openjdk-amd64/jre/bin/orbd to provide /usr/bin/orbd (orbd) in auto mode\n",
            "update-alternatives: using /usr/lib/jvm/java-8-openjdk-amd64/jre/bin/servertool to provide /usr/bin/servertool (servertool) in auto mode\n",
            "update-alternatives: using /usr/lib/jvm/java-8-openjdk-amd64/jre/bin/tnameserv to provide /usr/bin/tnameserv (tnameserv) in auto mode\n",
            "Setting up openjdk-8-jdk-headless:amd64 (8u312-b07-0ubuntu1~18.04) ...\n",
            "update-alternatives: using /usr/lib/jvm/java-8-openjdk-amd64/bin/idlj to provide /usr/bin/idlj (idlj) in auto mode\n",
            "update-alternatives: using /usr/lib/jvm/java-8-openjdk-amd64/bin/wsimport to provide /usr/bin/wsimport (wsimport) in auto mode\n",
            "update-alternatives: using /usr/lib/jvm/java-8-openjdk-amd64/bin/jsadebugd to provide /usr/bin/jsadebugd (jsadebugd) in auto mode\n",
            "update-alternatives: using /usr/lib/jvm/java-8-openjdk-amd64/bin/native2ascii to provide /usr/bin/native2ascii (native2ascii) in auto mode\n",
            "update-alternatives: using /usr/lib/jvm/java-8-openjdk-amd64/bin/javah to provide /usr/bin/javah (javah) in auto mode\n",
            "update-alternatives: using /usr/lib/jvm/java-8-openjdk-amd64/bin/hsdb to provide /usr/bin/hsdb (hsdb) in auto mode\n",
            "update-alternatives: using /usr/lib/jvm/java-8-openjdk-amd64/bin/clhsdb to provide /usr/bin/clhsdb (clhsdb) in auto mode\n",
            "update-alternatives: using /usr/lib/jvm/java-8-openjdk-amd64/bin/xjc to provide /usr/bin/xjc (xjc) in auto mode\n",
            "update-alternatives: using /usr/lib/jvm/java-8-openjdk-amd64/bin/schemagen to provide /usr/bin/schemagen (schemagen) in auto mode\n",
            "update-alternatives: using /usr/lib/jvm/java-8-openjdk-amd64/bin/extcheck to provide /usr/bin/extcheck (extcheck) in auto mode\n",
            "update-alternatives: using /usr/lib/jvm/java-8-openjdk-amd64/bin/jhat to provide /usr/bin/jhat (jhat) in auto mode\n",
            "update-alternatives: using /usr/lib/jvm/java-8-openjdk-amd64/bin/wsgen to provide /usr/bin/wsgen (wsgen) in auto mode\n",
            "  % Total    % Received % Xferd  Average Speed   Time    Time     Time  Current\n",
            "                                 Dload  Upload   Total   Spent    Left  Speed\n",
            "100  242k  100  242k    0     0  1132k      0 --:--:-- --:--:-- --:--:-- 1127k\n"
          ]
        }
      ],
      "source": [
        "!pip install pyspark\n",
        "!pip install graphframes\n",
        "!pip install -U -q PyDrive\n",
        "!apt install openjdk-8-jdk-headless -qq\n",
        "!curl -L -o \"/usr/local/lib/python3.7/dist-packages/pyspark/jars/graphframes-0.8.1-spark3.0-s_2.12.jar\" https://repos.spark-packages.org/graphframes/graphframes/0.8.1-spark3.0-s_2.12/graphframes-0.8.1-spark3.0-s_2.12.jar\n",
        "import os\n",
        "os.environ[\"JAVA_HOME\"] = \"/usr/lib/jvm/java-8-openjdk-amd64\""
      ]
    },
    {
      "cell_type": "markdown",
      "metadata": {
        "id": "LHtukwBPl9Nv"
      },
      "source": [
        "The cell below will download the dataset from S3 to us-congress-tweets directory"
      ]
    },
    {
      "cell_type": "code",
      "execution_count": 2,
      "metadata": {
        "colab": {
          "base_uri": "https://localhost:8080/"
        },
        "id": "AWGZu0fZ5Yv9",
        "outputId": "377594a3-b99e-4069-9458-f158977f6f5b"
      },
      "outputs": [
        {
          "output_type": "stream",
          "name": "stdout",
          "text": [
            "--2022-03-06 23:49:29--  https://us-congress.s3.amazonaws.com/congress_members.csv\n",
            "Resolving us-congress.s3.amazonaws.com (us-congress.s3.amazonaws.com)... 52.216.186.19\n",
            "Connecting to us-congress.s3.amazonaws.com (us-congress.s3.amazonaws.com)|52.216.186.19|:443... connected.\n",
            "HTTP request sent, awaiting response... 200 OK\n",
            "Length: 13835 (14K) [text/csv]\n",
            "Saving to: ‘us-congress-tweets/congress_members.csv’\n",
            "\n",
            "\r          us-congre   0%[                    ]       0  --.-KB/s               \rus-congress-tweets/ 100%[===================>]  13.51K  --.-KB/s    in 0s      \n",
            "\n",
            "2022-03-06 23:49:29 (128 MB/s) - ‘us-congress-tweets/congress_members.csv’ saved [13835/13835]\n",
            "\n",
            "--2022-03-06 23:49:29--  https://us-congress.s3.amazonaws.com/tweets-sample-400k.json\n",
            "Resolving us-congress.s3.amazonaws.com (us-congress.s3.amazonaws.com)... 52.216.186.19\n",
            "Connecting to us-congress.s3.amazonaws.com (us-congress.s3.amazonaws.com)|52.216.186.19|:443... connected.\n",
            "HTTP request sent, awaiting response... 200 OK\n",
            "Length: 202495914 (193M) [application/json]\n",
            "Saving to: ‘us-congress-tweets/tweets-sample-400k.json’\n",
            "\n",
            "us-congress-tweets/ 100%[===================>] 193.11M  76.9MB/s    in 2.5s    \n",
            "\n",
            "2022-03-06 23:49:32 (76.9 MB/s) - ‘us-congress-tweets/tweets-sample-400k.json’ saved [202495914/202495914]\n",
            "\n",
            "--2022-03-06 23:49:32--  https://us-congress.s3.amazonaws.com/user_hashtags-1m.csv\n",
            "Resolving us-congress.s3.amazonaws.com (us-congress.s3.amazonaws.com)... 52.216.186.19\n",
            "Connecting to us-congress.s3.amazonaws.com (us-congress.s3.amazonaws.com)|52.216.186.19|:443... connected.\n",
            "HTTP request sent, awaiting response... 200 OK\n",
            "Length: 25248825 (24M) [text/csv]\n",
            "Saving to: ‘us-congress-tweets/user_hashtags-1m.csv’\n",
            "\n",
            "us-congress-tweets/ 100%[===================>]  24.08M  49.1MB/s    in 0.5s    \n",
            "\n",
            "2022-03-06 23:49:33 (49.1 MB/s) - ‘us-congress-tweets/user_hashtags-1m.csv’ saved [25248825/25248825]\n",
            "\n",
            "--2022-03-06 23:49:33--  https://us-congress.s3.amazonaws.com/user_mentions.csv\n",
            "Resolving us-congress.s3.amazonaws.com (us-congress.s3.amazonaws.com)... 52.216.186.19\n",
            "Connecting to us-congress.s3.amazonaws.com (us-congress.s3.amazonaws.com)|52.216.186.19|:443... connected.\n",
            "HTTP request sent, awaiting response... 200 OK\n",
            "Length: 56151953 (54M) [text/csv]\n",
            "Saving to: ‘us-congress-tweets/user_mentions.csv’\n",
            "\n",
            "us-congress-tweets/ 100%[===================>]  53.55M  62.2MB/s    in 0.9s    \n",
            "\n",
            "2022-03-06 23:49:34 (62.2 MB/s) - ‘us-congress-tweets/user_mentions.csv’ saved [56151953/56151953]\n",
            "\n"
          ]
        }
      ],
      "source": [
        "!mkdir us-congress-tweets\n",
        "!wget https://us-congress.s3.amazonaws.com/congress_members.csv -O us-congress-tweets/congress_members.csv\n",
        "!wget https://us-congress.s3.amazonaws.com/tweets-sample-400k.json -O us-congress-tweets/tweets-sample-400k.json\n",
        "!wget https://us-congress.s3.amazonaws.com/user_hashtags-1m.csv -O us-congress-tweets/user_hashtags-1m.csv\n",
        "!wget https://us-congress.s3.amazonaws.com/user_mentions.csv -O us-congress-tweets/user_mentions.csv"
      ]
    },
    {
      "cell_type": "code",
      "execution_count": 3,
      "metadata": {
        "id": "bWOQNZBaXPgs"
      },
      "outputs": [],
      "source": [
        "import pandas as pd\n",
        "import numpy as np\n",
        "import matplotlib.pyplot as plt\n",
        "%matplotlib inline\n",
        "\n",
        "import pyspark\n",
        "from pyspark.sql import *\n",
        "from pyspark.sql.types import *\n",
        "from pyspark import SparkContext, SparkConf"
      ]
    },
    {
      "cell_type": "code",
      "execution_count": 4,
      "metadata": {
        "id": "FG8qQdgRXViL"
      },
      "outputs": [],
      "source": [
        "# create a Spark session\n",
        "conf = SparkConf().set(\"spark.ui.port\", \"4050\").set(\"spark.driver.memory\", \"2g\").set(\"spark.executor.memory\", \"8g\")\n",
        "\n",
        "# create a Spark context\n",
        "sc = pyspark.SparkContext(conf=conf)\n",
        "spark = SparkSession.builder.getOrCreate()\n"
      ]
    },
    {
      "cell_type": "code",
      "execution_count": 5,
      "metadata": {
        "colab": {
          "base_uri": "https://localhost:8080/"
        },
        "id": "h6qAn1XJWueC",
        "outputId": "816b883f-6808-4b12-9c72-9c64ed503c0d"
      },
      "outputs": [
        {
          "output_type": "stream",
          "name": "stdout",
          "text": [
            "+------------------+---------------+\n",
            "|            userid|    screen_name|\n",
            "+------------------+---------------+\n",
            "|         776664410|  RepCartwright|\n",
            "|         240363117|   RepTomMarino|\n",
            "|837722935095930883| RepScottTaylor|\n",
            "|        1069124515|     RepLaMalfa|\n",
            "|818460870573441028|  RepTomGarrett|\n",
            "|         163570705|     repcleaver|\n",
            "|          19739126|      GOPLeader|\n",
            "|          33563161| RepJoseSerrano|\n",
            "|        2861616083|USRepGaryPalmer|\n",
            "|        1074518754| SenatorBaldwin|\n",
            "|         305620929|  Call_Me_Dutch|\n",
            "|         381152398| RepTerriSewell|\n",
            "|         834069080| RepDavidRouzer|\n",
            "|         249787913|  SenatorCarper|\n",
            "|         188019606|        Clyburn|\n",
            "|         217543151|SenatorTimScott|\n",
            "|          39249305| USRepMikeDoyle|\n",
            "|          33537967|   amyklobuchar|\n",
            "|         249410485|  SanfordBishop|\n",
            "|          23124635|    TomColeOK04|\n",
            "+------------------+---------------+\n",
            "only showing top 20 rows\n",
            "\n",
            "Number of congress members tracked: 576\n"
          ]
        }
      ],
      "source": [
        "# First let's read Twitter ids and screen names of the 576 US congress members\n",
        "\n",
        "congress_members = spark.read.csv(\"us-congress-tweets/congress_members.csv\", header=True)\n",
        "congress_members.show()\n",
        "print(\"Number of congress members tracked:\", congress_members.count())"
      ]
    },
    {
      "cell_type": "markdown",
      "metadata": {
        "id": "eOfjGbB6WueF"
      },
      "source": [
        "We can use `spark.read.json(...)` without schema to load the tweets into a dataframe but this will be slow for two reasons:\n",
        "* First, it will make one pass over the data to build a schema of the content, then a second pass to read the content and parse it to the dataframe. \n",
        "* It will read all the content of the Tweet JSON objects but we only need few fields for a given task.\n",
        "\n",
        "Thus we define our own schema something like the following:"
      ]
    },
    {
      "cell_type": "code",
      "execution_count": 6,
      "metadata": {
        "id": "JLBnQUluWueG"
      },
      "outputs": [],
      "source": [
        "from pyspark.sql.types import *\n",
        "import pyspark.sql.functions as F\n",
        "twitter_date_format=\"EEE MMM dd HH:mm:ss ZZZZZ yyyy\"\n",
        "\n",
        "user_schema = StructType([\n",
        "    StructField('created_at', TimestampType(), True),\n",
        "    StructField('followers_count', LongType(), True),\n",
        "    StructField('id', LongType(), True),\n",
        "    StructField('name', StringType(), True),\n",
        "    StructField('screen_name', StringType(), True)\n",
        "])\n",
        "\n",
        "hashtag_schema = ArrayType(StructType([StructField('text', StringType(), True)]))\n",
        "user_mentions_schema = ArrayType(StructType([StructField('id', LongType(), True),\n",
        "                                             StructField('screen_name', StringType(), True)]))\n",
        "entities_schema = StructType([\n",
        "    StructField('hashtags', hashtag_schema, True),\n",
        "    StructField('user_mentions', user_mentions_schema, True)\n",
        "    ])\n",
        "\n",
        "retweeted_status_schema =StructType([        \n",
        "        StructField(\"id\", LongType(), True),\n",
        "        StructField(\"in_reply_to_user_id\", LongType(), True),\n",
        "        StructField(\"in_reply_to_status_id\", LongType(), True),\n",
        "        StructField(\"created_at\", TimestampType(), True),\n",
        "        StructField(\"user\", user_schema)\n",
        "    ])\n",
        "\n",
        "tweet_schema =StructType([\n",
        "        StructField(\"text\", StringType(), True),\n",
        "        StructField(\"id\", LongType(), True),\n",
        "        StructField(\"in_reply_to_user_id\", LongType(), True),\n",
        "        StructField(\"in_reply_to_status_id\", LongType(), True),\n",
        "        StructField(\"created_at\", TimestampType(), True),\n",
        "        StructField(\"user\", user_schema),\n",
        "        StructField(\"entities\", entities_schema),\n",
        "        StructField(\"retweeted_status\", retweeted_status_schema)\n",
        "    ])"
      ]
    },
    {
      "cell_type": "markdown",
      "metadata": {
        "id": "i6xAE5NXWueH"
      },
      "source": [
        "Now we are ready to read the tweets with `spark.read.json` passing our own schema as follows:"
      ]
    },
    {
      "cell_type": "code",
      "execution_count": 7,
      "metadata": {
        "colab": {
          "base_uri": "https://localhost:8080/"
        },
        "id": "QZa4FIDAWueH",
        "outputId": "78772477-4ce9-4fef-fdd8-999afde5249a"
      },
      "outputs": [
        {
          "output_type": "stream",
          "name": "stdout",
          "text": [
            "root\n",
            " |-- text: string (nullable = true)\n",
            " |-- id: long (nullable = true)\n",
            " |-- in_reply_to_user_id: long (nullable = true)\n",
            " |-- in_reply_to_status_id: long (nullable = true)\n",
            " |-- created_at: timestamp (nullable = true)\n",
            " |-- user: struct (nullable = true)\n",
            " |    |-- created_at: timestamp (nullable = true)\n",
            " |    |-- followers_count: long (nullable = true)\n",
            " |    |-- id: long (nullable = true)\n",
            " |    |-- name: string (nullable = true)\n",
            " |    |-- screen_name: string (nullable = true)\n",
            " |-- entities: struct (nullable = true)\n",
            " |    |-- hashtags: array (nullable = true)\n",
            " |    |    |-- element: struct (containsNull = true)\n",
            " |    |    |    |-- text: string (nullable = true)\n",
            " |    |-- user_mentions: array (nullable = true)\n",
            " |    |    |-- element: struct (containsNull = true)\n",
            " |    |    |    |-- id: long (nullable = true)\n",
            " |    |    |    |-- screen_name: string (nullable = true)\n",
            " |-- retweeted_status: struct (nullable = true)\n",
            " |    |-- id: long (nullable = true)\n",
            " |    |-- in_reply_to_user_id: long (nullable = true)\n",
            " |    |-- in_reply_to_status_id: long (nullable = true)\n",
            " |    |-- created_at: timestamp (nullable = true)\n",
            " |    |-- user: struct (nullable = true)\n",
            " |    |    |-- created_at: timestamp (nullable = true)\n",
            " |    |    |-- followers_count: long (nullable = true)\n",
            " |    |    |-- id: long (nullable = true)\n",
            " |    |    |-- name: string (nullable = true)\n",
            " |    |    |-- screen_name: string (nullable = true)\n",
            " |-- user_id: long (nullable = true)\n",
            "\n"
          ]
        }
      ],
      "source": [
        "tweets = spark.read.option(\"timestampFormat\", twitter_date_format)\\\n",
        "                   .json('us-congress-tweets/tweets-sample-400k.json', tweet_schema)\\\n",
        "                   .withColumn('user_id',F.col('user.id'))\n",
        "tweets.printSchema()"
      ]
    },
    {
      "cell_type": "code",
      "execution_count": null,
      "metadata": {
        "colab": {
          "base_uri": "https://localhost:8080/"
        },
        "id": "Jdy_V8T0wwfh",
        "outputId": "84e91d89-3c75-4506-8479-782ceb4ee49e"
      },
      "outputs": [
        {
          "output_type": "execute_result",
          "data": {
            "text/plain": [
              "Row(text='RT @maddow: \"I hear a lot about about lack of corroboration. You know, you don\\'t get corroboration if you don\\'t talk to corroborating witne…', id=1047999818038050816, in_reply_to_user_id=None, in_reply_to_status_id=None, created_at=datetime.datetime(2018, 10, 5, 0, 0, 2), user=Row(created_at=datetime.datetime(2017, 3, 22, 3, 11, 54), followers_count=527, id=844386122822119424, name='Quazy', screen_name='quazy101'), entities=Row(hashtags=[], user_mentions=[Row(id=16129920, screen_name='maddow')]), retweeted_status=Row(id=1047941326975766530, in_reply_to_user_id=None, in_reply_to_status_id=None, created_at=datetime.datetime(2018, 10, 4, 20, 7, 36), user=Row(created_at=datetime.datetime(2008, 9, 4, 15, 2, 12), followers_count=9503143, id=16129920, name='Rachel Maddow MSNBC', screen_name='maddow')), user_id=844386122822119424)"
            ]
          },
          "metadata": {},
          "execution_count": 8
        }
      ],
      "source": [
        "tweets.head()"
      ]
    },
    {
      "cell_type": "markdown",
      "metadata": {
        "id": "HyAc0ou-WueI"
      },
      "source": [
        "## (30 points) Part 1: Let's Fire up Spark for Real\n",
        "\n",
        "Okay, now that we've finally got our data loaded, we are ready to get our hands dirty with Spark. As you know, Spark comes with lots of built-in functions and nice capabilities. Indeed, you will find that to answer the problems below, there are **many** possible approaches. Please refer to the Stanford Spark tutorial we posted alongside this homework. Also feel free to Google around for some Spark resources, but we list a few here to get you started:\n",
        "\n",
        "* https://spark.apache.org/docs/latest/sql-ref-functions-builtin.html#aggregate-functions\n",
        "* https://spark.apache.org/docs/latest/sql-getting-started.html#running-sql-queries-programmatically\n"
      ]
    },
    {
      "cell_type": "markdown",
      "metadata": {
        "id": "EFo2xXh1WueI"
      },
      "source": [
        "### Exploratory Data Analysis\n",
        "\n",
        "a) How many unique users are there? "
      ]
    },
    {
      "cell_type": "code",
      "execution_count": 52,
      "metadata": {
        "colab": {
          "base_uri": "https://localhost:8080/"
        },
        "id": "RZJGG4bzWueK",
        "outputId": "6d816f56-6d01-4eb3-f0d9-1666749d3628"
      },
      "outputs": [
        {
          "output_type": "execute_result",
          "data": {
            "text/plain": [
              "258929"
            ]
          },
          "metadata": {},
          "execution_count": 52
        }
      ],
      "source": [
        "# your code here for unique users\n",
        "mentions_df = tweets.select(tweets.id, F.explode(tweets.entities.user_mentions))\\\n",
        "          .withColumnRenamed('id', 'tweet_id').select('tweet_id', F.col(\"col.*\")).distinct()\n",
        "tweets.select('user.id')\\\n",
        ".union(mentions_df.select('id'))\\\n",
        ".union(tweets.select('in_reply_to_user_id'))\\\n",
        ".union(tweets.select('retweeted_status.user.id'))\\\n",
        ".union(tweets.select('retweeted_status.in_reply_to_user_id'))\\\n",
        ".union(congress_members.select('userid'))\\\n",
        ".distinct().count()"
      ]
    },
    {
      "cell_type": "markdown",
      "metadata": {
        "id": "zY5_nDCCWueM"
      },
      "source": [
        "b) How many times is the user **GOPLeader** mentioned?\n"
      ]
    },
    {
      "cell_type": "code",
      "execution_count": null,
      "metadata": {
        "colab": {
          "base_uri": "https://localhost:8080/"
        },
        "id": "YrkN__kuWueM",
        "outputId": "db31d4cf-a3cb-497b-bbb1-683be09ad85f"
      },
      "outputs": [
        {
          "output_type": "stream",
          "name": "stdout",
          "text": [
            "GOPLeader was mentioned 4728 times\n"
          ]
        }
      ],
      "source": [
        "# code here\n",
        "count = mentions_df.filter(mentions_df.screen_name == 'GOPLeader').count()\n",
        "print('GOPLeader was mentioned {} times'.format(count))"
      ]
    },
    {
      "cell_type": "markdown",
      "metadata": {
        "id": "BIwGhG_OWueN"
      },
      "source": [
        "\n",
        "c) Now find the top-5 most mentioned members of Congress."
      ]
    },
    {
      "cell_type": "code",
      "execution_count": null,
      "metadata": {
        "colab": {
          "base_uri": "https://localhost:8080/"
        },
        "id": "fztHxTpyWueN",
        "outputId": "0bad5f81-3e6e-4fc4-a483-c3326119bbce"
      },
      "outputs": [
        {
          "output_type": "stream",
          "name": "stdout",
          "text": [
            "Top 5 mentioned congress members\n",
            "\n",
            "NancyPelosi was mentioned 16006 times\n",
            "senatemajldr was mentioned 14903 times\n",
            "LindseyGrahamSC was mentioned 14251 times\n",
            "SenSchumer was mentioned 13636 times\n",
            "RepAdamSchiff was mentioned 13183 times\n"
          ]
        }
      ],
      "source": [
        "top_5_congress = mentions_df.join(congress_members, congress_members.userid == mentions_df.id, \"inner\")\\\n",
        ".groupBy('id').count()\n",
        "top_5_congress_names = top_5_congress.join(congress_members, congress_members.userid == top_5_congress.id)\\\n",
        ".orderBy(F.col('count').desc()).limit(5)\n",
        "print(\"Top 5 mentioned congress members\")\n",
        "print()\n",
        "for row in top_5_congress_names.rdd.toLocalIterator():\n",
        "    print(\"{} was mentioned {} times\".format(row[3], row[1]))"
      ]
    },
    {
      "cell_type": "markdown",
      "metadata": {
        "id": "kGuKUpyqZ2ZF"
      },
      "source": [
        "d) For each month in the dataset, report the top-5 most mentioned users (across all users in the dataset, not just the members of Congress). "
      ]
    },
    {
      "cell_type": "code",
      "execution_count": null,
      "metadata": {
        "id": "cgdYVF2cZ2un",
        "colab": {
          "base_uri": "https://localhost:8080/"
        },
        "outputId": "c7cf6e75-94c5-4ed1-aefe-a7d9b9fc44c2"
      },
      "outputs": [
        {
          "output_type": "stream",
          "name": "stdout",
          "text": [
            "Top 5 mentioned users in January 2019\n",
            "\n",
            "realDonaldTrump was mentioned 4113 times\n",
            "SpeakerPelosi was mentioned 3741 times\n",
            "SenSchumer was mentioned 2781 times\n",
            "senatemajldr was mentioned 2557 times\n",
            "LindseyGrahamSC was mentioned 1797 times\n",
            "\n",
            "\n",
            "Top 5 mentioned users in February 2019\n",
            "\n",
            "marcorubio was mentioned 1872 times\n",
            "realDonaldTrump was mentioned 1795 times\n",
            "RepAdamSchiff was mentioned 1167 times\n",
            "SpeakerPelosi was mentioned 1135 times\n",
            "SenSanders was mentioned 1078 times\n",
            "\n",
            "\n",
            "Top 5 mentioned users in March 2019\n",
            "\n",
            "RepAdamSchiff was mentioned 2269 times\n",
            "realDonaldTrump was mentioned 1893 times\n",
            "LindseyGrahamSC was mentioned 1551 times\n",
            "marcorubio was mentioned 1474 times\n",
            "SpeakerPelosi was mentioned 1114 times\n",
            "\n",
            "\n",
            "Top 5 mentioned users in April 2019\n",
            "\n",
            "RepAdamSchiff was mentioned 1832 times\n",
            "realDonaldTrump was mentioned 1397 times\n",
            "SpeakerPelosi was mentioned 1196 times\n",
            "SenSchumer was mentioned 963 times\n",
            "RepJerryNadler was mentioned 920 times\n",
            "\n",
            "\n",
            "Top 5 mentioned users in May 2019\n",
            "\n",
            "LindseyGrahamSC was mentioned 1916 times\n",
            "realDonaldTrump was mentioned 1798 times\n",
            "SpeakerPelosi was mentioned 1471 times\n",
            "RepAdamSchiff was mentioned 1435 times\n",
            "justinamash was mentioned 1330 times\n",
            "\n",
            "\n",
            "Top 5 mentioned users in June 2019\n",
            "\n",
            "realDonaldTrump was mentioned 1480 times\n",
            "SenSchumer was mentioned 1140 times\n",
            "senatemajldr was mentioned 1002 times\n",
            "LindseyGrahamSC was mentioned 963 times\n",
            "SpeakerPelosi was mentioned 901 times\n",
            "\n",
            "\n",
            "Top 5 mentioned users in July 2019\n",
            "\n",
            "realDonaldTrump was mentioned 3569 times\n",
            "RepCummings was mentioned 2179 times\n",
            "senatemajldr was mentioned 1846 times\n",
            "SpeakerPelosi was mentioned 1747 times\n",
            "SenSchumer was mentioned 1691 times\n",
            "\n",
            "\n",
            "Top 5 mentioned users in August 2019\n",
            "\n",
            "senatemajldr was mentioned 2424 times\n",
            "realDonaldTrump was mentioned 1745 times\n",
            "LindseyGrahamSC was mentioned 830 times\n",
            "SenSchumer was mentioned 747 times\n",
            "RepAdamSchiff was mentioned 730 times\n",
            "\n",
            "\n",
            "Top 5 mentioned users in September 2019\n",
            "\n",
            "realDonaldTrump was mentioned 1367 times\n",
            "senatemajldr was mentioned 1037 times\n",
            "SpeakerPelosi was mentioned 816 times\n",
            "RepAdamSchiff was mentioned 717 times\n",
            "Jim_Jordan was mentioned 620 times\n",
            "\n",
            "\n",
            "Top 5 mentioned users in October 2018\n",
            "\n",
            "SenatorCollins was mentioned 2970 times\n",
            "JeffFlake was mentioned 1624 times\n",
            "LindseyGrahamSC was mentioned 1544 times\n",
            "realDonaldTrump was mentioned 1492 times\n",
            "lisamurkowski was mentioned 1424 times\n",
            "\n",
            "\n",
            "Top 5 mentioned users in Novemeber 2018\n",
            "\n",
            "realDonaldTrump was mentioned 1788 times\n",
            "marcorubio was mentioned 1247 times\n",
            "RepSwalwell was mentioned 1068 times\n",
            "NancyPelosi was mentioned 1030 times\n",
            "LindseyGrahamSC was mentioned 989 times\n",
            "\n",
            "\n",
            "Top 5 mentioned users in December 2018\n",
            "\n",
            "realDonaldTrump was mentioned 1868 times\n",
            "NancyPelosi was mentioned 1708 times\n",
            "SenSchumer was mentioned 1634 times\n",
            "LindseyGrahamSC was mentioned 983 times\n",
            "senatemajldr was mentioned 634 times\n",
            "\n",
            "\n"
          ]
        }
      ],
      "source": [
        "months = {1: 'January 2019', 2: 'February 2019', 3: 'March 2019', 4: 'April 2019', 5: 'May 2019', 6: 'June 2019',\n",
        "          7: 'July 2019', 8: 'August 2019', 9: 'September 2019', 10: 'October 2018', 11: 'Novemeber 2018', 12: 'December 2018'}\n",
        "\n",
        "tweets_month = dict()\n",
        "mentions_month = dict()\n",
        "\n",
        "for i in months.keys():\n",
        "  print(\"Top 5 mentioned users in {}\".format(months[i]))\n",
        "  print()\n",
        "  tweets_month[i] = tweets.filter(F.month(tweets.created_at) == i)\n",
        "  mentions_month[i] = tweets_month[i].select(tweets.id, F.explode(tweets.entities.user_mentions))\\\n",
        "          .withColumnRenamed('id', 'tweet_id').select('tweet_id', F.col(\"col.*\")).distinct()\n",
        "\n",
        "  user_screen_map = mentions_month[i].dropDuplicates(['id'])\n",
        "\n",
        "  top_5 = mentions_month[i].groupBy('id').count()\n",
        "  top_5_names = top_5.join(user_screen_map, user_screen_map.id == top_5.id)\\\n",
        "            .orderBy(F.col('count').desc()).limit(5)\n",
        " \n",
        "  for row in top_5_names.rdd.toLocalIterator():\n",
        "    print(\"{} was mentioned {} times\".format(row[4], row[1]))\n",
        "                    \n",
        "  print()\n",
        "  print()"
      ]
    },
    {
      "cell_type": "markdown",
      "metadata": {
        "id": "51iGNYmNaUW1"
      },
      "source": [
        "e) Do you notice anything interesting in your monthly analysis?"
      ]
    },
    {
      "cell_type": "markdown",
      "metadata": {
        "id": "jSYkjX5QaYIf"
      },
      "source": [
        "- Top mentioned users are still congress members with the exception of president, since these tweets are mostly from political dataset.\n",
        "\n",
        "- The president's handle **'realDonaldTrump'** (at the time of dataset) trumps all the mentioned members in most of the month.\n",
        "\n",
        "- It could be because people put most of the political issues to president rather than congress members.\n",
        "\n",
        "- or, since the president's handle was highly active around the 4 year tenure, there is higher chances of getting noticed and retweeted."
      ]
    },
    {
      "cell_type": "markdown",
      "metadata": {
        "id": "Ha2vrLOmWueh"
      },
      "source": [
        "## (25 points) Part 2: PageRank\n",
        "Now let's find out who are the most important users in the dataset by running PageRank over the mentions network. For this problem, we'll define a user-mentions network using relations in `us-congress-tweets/user_mentions.csv`. That is, each user is a node in the graph. If user A mentions user B, then there should be an edge from A to B.\n",
        "\n",
        "Hint:\n",
        "* Take a look at GraphFrames: https://graphframes.github.io/graphframes/docs/_site/user-guide.html\n"
      ]
    },
    {
      "cell_type": "code",
      "execution_count": 6,
      "metadata": {
        "id": "c1HwmZJCWueh"
      },
      "outputs": [],
      "source": [
        "# your network construction code here\n",
        "from graphframes import *\n",
        "edges = spark.read.csv(\"us-congress-tweets/user_mentions.csv\", header=True).repartition(12).persist()\n",
        "vertices = edges.select('src').union(edges.select('dst')).withColumnRenamed('src', 'id').distinct()\n",
        "g = GraphFrame(vertices, edges)"
      ]
    },
    {
      "cell_type": "markdown",
      "metadata": {
        "id": "Jg0R72ymwiyK"
      },
      "source": [
        "How many vertices are there in your network? And how many edges?"
      ]
    },
    {
      "cell_type": "code",
      "execution_count": null,
      "metadata": {
        "id": "Z0_aNONPwotS",
        "colab": {
          "base_uri": "https://localhost:8080/"
        },
        "outputId": "aa893b0d-a242-4199-eb42-646419753085"
      },
      "outputs": [
        {
          "output_type": "stream",
          "name": "stdout",
          "text": [
            "no of vertices = 1133350\n",
            "\n",
            "no of edges = 2064872\n"
          ]
        }
      ],
      "source": [
        "print(\"no of vertices = {}\".format(g.vertices.count()))\n",
        "print()\n",
        "print(\"no of edges = {}\".format(g.edges.count()))"
      ]
    },
    {
      "cell_type": "markdown",
      "metadata": {
        "id": "_WMaKjp5Zlb8"
      },
      "source": [
        "Now you can run PageRank on the constructed network. Feel free to use the implementation provided as part of GraphFrames. Use a reset (or teleportation probability) of 0.15. "
      ]
    },
    {
      "cell_type": "code",
      "execution_count": null,
      "metadata": {
        "id": "YHgs08vfWuei"
      },
      "outputs": [],
      "source": [
        "# your PageRank code here (should be pretty short since you're just calling a function)\n",
        "results = g.pageRank(resetProbability=0.15, maxIter=50)"
      ]
    },
    {
      "cell_type": "markdown",
      "metadata": {
        "id": "XeWYZx8RZz9n"
      },
      "source": [
        "OK, let's see what we found. List the top-10 users based on the PageRank values calculated above."
      ]
    },
    {
      "cell_type": "code",
      "execution_count": null,
      "metadata": {
        "id": "SMtXqwdDcS0V",
        "colab": {
          "base_uri": "https://localhost:8080/"
        },
        "outputId": "0db65a55-c709-4dd7-cc4a-c7a1dab200c1"
      },
      "outputs": [
        {
          "output_type": "stream",
          "name": "stdout",
          "text": [
            "top 10 users based on the pagerank\n",
            "\n",
            "+------------------+\n",
            "|                id|\n",
            "+------------------+\n",
            "|          25073877|\n",
            "|         240393970|\n",
            "|          15764644|\n",
            "|        1249982359|\n",
            "|822215679726100480|\n",
            "|          29442313|\n",
            "|          15745368|\n",
            "|         242555999|\n",
            "|          17494010|\n",
            "|         242426145|\n",
            "+------------------+\n",
            "\n"
          ]
        }
      ],
      "source": [
        "# Top 10 accounts\n",
        "\n",
        "#25073877 => Error: Not Found\n",
        "#240393970 => @RepJeffDuncan\n",
        "#15764644 => @SpeakerPelosi\n",
        "#1249982359 => @LeaderMcConnell\n",
        "#822215679726100480 => @POTUS45\n",
        "#29442313 => @SenSanders\n",
        "#15745368 => @marcorubio\n",
        "#242555999 => @SenWhitehouse\n",
        "#17494010 => @SenSchumer\n",
        "#242426145 => @RepMcGovern\n",
        "\n",
        "print(\"top 10 users based on the pagerank\\n\")\n",
        "results.vertices.orderBy(F.col('pagerank').desc()).limit(10).select('id').show()"
      ]
    },
    {
      "cell_type": "markdown",
      "metadata": {
        "id": "ZuX2j4A-aFvz"
      },
      "source": [
        "What do you observe? are the top 10 users congress members? are there outsiders?\n",
        "\n",
        "Hint: You can use https://twitter.com/intent/user?user_id=? to find out more info about the users"
      ]
    },
    {
      "cell_type": "markdown",
      "metadata": {
        "id": "DN7PbajvzOea"
      },
      "source": [
        "This datset is from **Oct 2018 - Sept 2019**. These tweets represent some of the most important events around that time.\n",
        "\n",
        "- Top-10 users are mostly congress members with the exception of accounts of president. \n",
        "- The results of Top-10 users stay same and does not change with maxIter=20 iteration to 50. \n",
        "- At the top of the list is (id #25073877 which is the deleted account of Donald J. Trump (@realDonaldTrump). This account has been permanently deleted because of constant misrepresentation of the facts.\n",
        "- Around Feb 2019 time **Senator Bernie Sanders(@SenSanders)** announced his presidential campaign.\n",
        "- One of interesting twitter handle at **maxIter=5** is **@CelebrateMemphs**, which was created to celebrate city of Memphis's 200 year anniversary.\n",
        "- **Senator Mitch McConell(@LeaderMcConnell)** and **Senator Chuck Schumer(@SenSchumer)**\n",
        "were the Senate majority and minority leader respectively around that time.\n",
        "- **Rep Nancy Pelosi(@SpeakerPelosi)** was the speaker of the house at that time.\n",
        "- **@POTUS45** was the twitter handle of 45th President of United States(Donald J. Trump)\n",
        "- I'm not sure why @senWhitehouse appears here. It might be a misnomer for people looking for accounts for whitehouse gov or he is a popular senator from Rhode Island. \n",
        "- As Chairman, **Rep Jim McGovern(@RepMcGovern)** played a central role in devising procedures adopted by the House for the Impeachment of Donald Trump."
      ]
    },
    {
      "cell_type": "markdown",
      "metadata": {
        "id": "NUcdJqltBYyf"
      },
      "source": [
        "## (5 points) Bonus Question (Optional)\n",
        "Until now you have explored different aspects of Spark to investigate tweets by the US Congress. For this (optional) bonus problem, please conduct your own investigation of the data. You can use any combinations of the data files to carry out your investigation. You may use any libraries in Spark that you like, but you must use Spark. Tell us what question motivates you, what you did, what you discovered, and why it is interesting. This is completely open-ended, but we are looking for compelling questions and insights. Good luck!\n",
        "\n"
      ]
    },
    {
      "cell_type": "markdown",
      "metadata": {
        "id": "w0DTKHMRDlkt"
      },
      "source": [
        "Feel free to add any number of code/text cells here for your answer!\n"
      ]
    },
    {
      "cell_type": "code",
      "source": [
        "hashtags = tweets.select('id', tweets.user.id.alias('userid'), F.explode(tweets.entities.hashtags))\\\n",
        ".select('id', 'userid', F.col(\"col.*\")).withColumnRenamed('text', 'hashtag')\n",
        "print(\"Most hashtags\")\n",
        "hashtags.groupBy('hashtag').count().orderBy(F.col('count').desc()).show()          "
      ],
      "metadata": {
        "colab": {
          "base_uri": "https://localhost:8080/"
        },
        "id": "-lbL8Dw2ivhG",
        "outputId": "d1e7cad1-e21e-407a-9d26-21ca29c83e7e"
      },
      "execution_count": 43,
      "outputs": [
        {
          "output_type": "stream",
          "name": "stdout",
          "text": [
            "Most hashtags\n",
            "+-------------+-----+\n",
            "|      hashtag|count|\n",
            "+-------------+-----+\n",
            "|    Venezuela| 1224|\n",
            "|  MoscowMitch| 1123|\n",
            "|TrumpShutdown|  705|\n",
            "|         MAGA|  535|\n",
            "|MuellerReport|  396|\n",
            "|  NancyPelosi|  349|\n",
            "| MaduroRegime|  347|\n",
            "|        Trump|  338|\n",
            "| BuildTheWall|  333|\n",
            "| GreenNewDeal|  297|\n",
            "|    Kavanaugh|  292|\n",
            "|     BREAKING|  277|\n",
            "| ForThePeople|  224|\n",
            "|       Maduro|  224|\n",
            "|    Democrats|  194|\n",
            "| DoWhatWeSaid|  179|\n",
            "|      Mueller|  174|\n",
            "|         SOTU|  173|\n",
            "|          GOP|  171|\n",
            "|          HR1|  168|\n",
            "+-------------+-----+\n",
            "only showing top 20 rows\n",
            "\n"
          ]
        }
      ]
    },
    {
      "cell_type": "markdown",
      "source": [
        "- **Motivation**: What kind of news topic was most popular around the time. -\n",
        "\n",
        "- I have investigated hashtags in tweets here. From the results of hastags used, we can find most discussed topics.\n",
        "\n",
        "- **Analysis**: \n",
        "  - There is lot of discussion around **Mueller Report** which came in March 2019. This has a lot of significance since it deals with political climate at that time, and an in-depth investigation into Russian efforts to interfere in the 2016 United States presidential election, allegations of conspiracy or coordination between **Donald Trump's** presidential campaign and Russia.\n",
        "  - there are also a lot of tweets discussing **The Venezuelan presidential crisis** which was an ongoing political crisis concerning the leadership and the legitimate president of **Venezuela** which has been contested since 10 January 2019, with the nation and the world divided in support for Nicolás Maduro or Juan Guaidó.  \n",
        "  - Some of the top hashtags in this list is related to **Supreme Court Nominee Brett Kavanaugh hearing**.\n",
        "  - #DoWhatWeSaid was one of the most trending tweets around the time, and related to Trump's Border plan."
      ],
      "metadata": {
        "id": "qILBYDsNkazE"
      }
    },
    {
      "cell_type": "code",
      "source": [
        "tweets.groupBy('user.id').count().orderBy(F.col('count').desc()).show()"
      ],
      "metadata": {
        "colab": {
          "base_uri": "https://localhost:8080/"
        },
        "id": "eVQyquONxdYO",
        "outputId": "a875e32c-d178-475f-d1b1-7496977c19a7"
      },
      "execution_count": 56,
      "outputs": [
        {
          "output_type": "stream",
          "name": "stdout",
          "text": [
            "+-------------------+------+\n",
            "|                 id| count|\n",
            "+-------------------+------+\n",
            "|               null|108015|\n",
            "| 938533034659168256|   237|\n",
            "|         4521330855|   115|\n",
            "| 825359465826353153|   101|\n",
            "| 810609636529373189|    74|\n",
            "|         1151379468|    72|\n",
            "|         4715692053|    57|\n",
            "|         1566650000|    49|\n",
            "|         1199085984|    45|\n",
            "|           27124758|    44|\n",
            "| 845783120716558336|    44|\n",
            "|         2732784567|    43|\n",
            "|          190890578|    39|\n",
            "|         3280419312|    38|\n",
            "| 780537959338487812|    38|\n",
            "|           24470087|    37|\n",
            "| 866073522036191232|    37|\n",
            "|           23345560|    36|\n",
            "|1021192197914464257|    36|\n",
            "| 857936728165896204|    36|\n",
            "+-------------------+------+\n",
            "only showing top 20 rows\n",
            "\n"
          ]
        }
      ]
    },
    {
      "cell_type": "markdown",
      "source": [
        "- About 100k almost 1/4 of total tweets are by null user which seems like users who has been deleted because of some reasons.One of these reasons being a lot of spurrious tweets. \n",
        "- A lot of these nulls might be from **deleted account of @realDonaldTrump**, but cannot be certain.\n",
        "- About 200,2nd most tweets are by a bot account(@openletterbot(938533034659168256)) which publishes copies of letters to elected officials in the United States."
      ],
      "metadata": {
        "id": "up281Yc5zA2h"
      }
    },
    {
      "cell_type": "code",
      "source": [
        "tweet_by_hour = tweets.select(F.hour('created_at').alias('hour')).groupBy('hour').count().orderBy(F.col('hour').desc())\n",
        "tweet_by_hour.show(24)"
      ],
      "metadata": {
        "colab": {
          "base_uri": "https://localhost:8080/"
        },
        "id": "SYKRDD030DzW",
        "outputId": "80943a7b-bbd7-4f77-d709-1ac067310691"
      },
      "execution_count": 84,
      "outputs": [
        {
          "output_type": "stream",
          "name": "stdout",
          "text": [
            "+----+-----+\n",
            "|hour|count|\n",
            "+----+-----+\n",
            "|  23|14736|\n",
            "|  22|15673|\n",
            "|  21|16265|\n",
            "|  20|16668|\n",
            "|  19|16184|\n",
            "|  18|16569|\n",
            "|  17|16438|\n",
            "|  16|16308|\n",
            "|  15|16217|\n",
            "|  14|14368|\n",
            "|  13|12205|\n",
            "|  12|10004|\n",
            "|  11| 7533|\n",
            "|  10| 5158|\n",
            "|   9| 3758|\n",
            "|   8| 3626|\n",
            "|   7| 4244|\n",
            "|   6| 5352|\n",
            "|   5| 7388|\n",
            "|   4|10441|\n",
            "|   3|13635|\n",
            "|   2|15781|\n",
            "|   1|16547|\n",
            "|   0|16887|\n",
            "+----+-----+\n",
            "only showing top 24 rows\n",
            "\n"
          ]
        }
      ]
    },
    {
      "cell_type": "markdown",
      "source": [
        "The tweets are distributed over hours. But it keeps increasing in number as the day progresses and peaks around dinner time. "
      ],
      "metadata": {
        "id": "8rYf6FFd50ur"
      }
    },
    {
      "cell_type": "markdown",
      "metadata": {
        "id": "KYqpssb-yE8a"
      },
      "source": [
        "## (20 points) Hubs and Authorities by Hand\n",
        "\n",
        "Consider the following graph (in adjacency list format):\n",
        "\n",
        "* A: B, D\n",
        "* B: D, E\n",
        "* C: D, E\n",
        "* D: F, G\n",
        "* E: C, D, G, H\n",
        "* F: \n",
        "* G: \n",
        "* H: C, G\n",
        "\n",
        "Find the hub and authority score for each node. Please normalize your final scores so they sum to 1."
      ]
    },
    {
      "cell_type": "markdown",
      "metadata": {
        "id": "n4vm-2xxy6qt"
      },
      "source": [
        "**iteration 0**\n",
        "\n",
        "h<sub>0</sub>(A) = h<sub>0</sub>(B) = h<sub>0</sub>(C) = h<sub>0</sub>(D) = h<sub>0</sub>(E) = h<sub>0</sub>(F) = h<sub>0</sub>(G) = h<sub>0</sub>(H) = 1  \n",
        "\n",
        "a<sub>0</sub>(A) = a<sub>0</sub>(B) = a<sub>0</sub>(C) = a<sub>0</sub>(D) = a<sub>0</sub>(E) = a<sub>0</sub>(F) = a<sub>0</sub>(G) = a<sub>0</sub>(H) = 1\n",
        "\n",
        "**iteration 1**\n",
        "\n",
        "h<sub>1</sub>(A) = a<sub>0</sub>(B) + a<sub>0</sub>(D) = 2 \\\\\n",
        "h<sub>1</sub>(B) = a<sub>0</sub>(D) + a<sub>0</sub>(E) = 2 \\\\\n",
        "h<sub>1</sub>(C) = a<sub>0</sub>(D) + a<sub>0</sub>(E) = 2 \\\\\n",
        "h<sub>1</sub>(D) = a<sub>0</sub>(F) + a<sub>0</sub>(G)= 2 \\\\\n",
        "h<sub>1</sub>(E) = a<sub>0</sub>(C) + a<sub>0</sub>(D) + a<sub>0</sub>(G) + a<sub>0</sub>(H) = 4 \\\\\n",
        "h<sub>1</sub>(F) = 0 \\\\\n",
        "h<sub>1</sub>(G) = 0 \\\\\n",
        "h<sub>1</sub>(H) = a<sub>0</sub>(C) + a<sub>0</sub>(G) = 2 \\\\\n",
        "\n",
        "a<sub>1</sub>(A) = 0 \\\\\n",
        "a<sub>1</sub>(B) = h<sub>0</sub>(A) = 1 \\\\\n",
        "a<sub>1</sub>(C) = h<sub>0</sub>(E) + h<sub>0</sub>(H) = 2 \\\\\n",
        "a<sub>1</sub>(D) = h<sub>0</sub>(A) + h<sub>0</sub>(B) + h<sub>0</sub>(C) + h<sub>0</sub>(E) = 4 \\\\\n",
        "a<sub>1</sub>(E) = h<sub>0</sub>(B) + h<sub>0</sub>(C) = 2 \\\\\n",
        "a<sub>1</sub>(F) = h<sub>0</sub>(D) = 1 \\\\\n",
        "a<sub>1</sub>(G) = h<sub>0</sub>(D) + h<sub>0</sub>(E) + h<sub>0</sub>(H) = 3 \\\\\n",
        "a<sub>1</sub>(H) = h<sub>0</sub>(E) = 1 \\\\\n",
        "\n",
        "**iteration 2**\n",
        "\n",
        "h<sub>2</sub>(A) = 5 \\\\\n",
        "h<sub>2</sub>(B) = 6 \\\\\n",
        "h<sub>2</sub>(C) = 6 \\\\\n",
        "h<sub>2</sub>(D) = 4 \\\\\n",
        "h<sub>2</sub>(E) = 10 \\\\\n",
        "h<sub>2</sub>(F) = 0 \\\\\n",
        "h<sub>2</sub>(G) = 0 \\\\\n",
        "h<sub>2</sub>(H) = 5 \\\\\n",
        "\n",
        "a<sub>2</sub>(A) = 0 \\\\\n",
        "a<sub>2</sub>(B) = 2 \\\\\n",
        "a<sub>2</sub>(C) = 6 \\\\\n",
        "a<sub>2</sub>(D) = 10 \\\\\n",
        "a<sub>2</sub>(E) = 4 \\\\\n",
        "a<sub>2</sub>(F) = 2 \\\\\n",
        "a<sub>2</sub>(G) = 8 \\\\\n",
        "a<sub>2</sub>(H) = 4 \\\\\n",
        "\n",
        "**iteration 3**\n",
        "\n",
        "h<sub>3</sub>(A) = 12 \\\\\n",
        "h<sub>3</sub>(B) = 14 \\\\\n",
        "h<sub>3</sub>(C) = 14 \\\\\n",
        "h<sub>3</sub>(D) = 10 \\\\\n",
        "h<sub>3</sub>(E) = 28 \\\\\n",
        "h<sub>3</sub>(F) = 0 \\\\\n",
        "h<sub>3</sub>(G) = 0 \\\\\n",
        "h<sub>3</sub>(H) = 14 \\\\\n",
        "\n",
        "a<sub>3</sub>(A) = 0 \\\\\n",
        "a<sub>3</sub>(B) = 5 \\\\\n",
        "a<sub>3</sub>(C) = 15 \\\\\n",
        "a<sub>3</sub>(D) = 27 \\\\\n",
        "a<sub>3</sub>(E) = 12 \\\\\n",
        "a<sub>3</sub>(F) = 4 \\\\\n",
        "a<sub>3</sub>(G) = 19 \\\\\n",
        "a<sub>3</sub>(H) = 10 \\\\\n",
        "\n",
        "**iteration 4 with normalization**\n",
        "\n",
        "h<sub>4</sub>(A) = 32/238 = 0.13 \\\\\n",
        "h<sub>4</sub>(B) = 39/238 = 0.16 \\\\\n",
        "h<sub>4</sub>(C) = 39/238 = 0.16 \\\\\n",
        "h<sub>4</sub>(D) = 23/238 = 0.10 \\\\\n",
        "h<sub>4</sub>(E) = 71/238 = 0.30  \\\\\n",
        "h<sub>4</sub>(F) = 0/238 = 0 \\\\\n",
        "h<sub>4</sub>(G) = 0/238 = 0 \\\\\n",
        "h<sub>4</sub>(H) = 34/238 = 0.14 \\\\\n",
        "\n",
        "a<sub>4</sub>(A) = 0/240 = 0 \\\\\n",
        "a<sub>4</sub>(B) = 12/240 = 0.05 \\\\\n",
        "a<sub>4</sub>(C) = 42/240 = 0.18 \\\\\n",
        "a<sub>4</sub>(D) = 68/240 = 0.28 \\\\\n",
        "a<sub>4</sub>(E) = 28/240 = 0.12 \\\\\n",
        "a<sub>4</sub>(F) = 10/240 = 0.04 \\\\\n",
        "a<sub>4</sub>(G) = 52/240 = 0.22 \\\\\n",
        "a<sub>4</sub>(H) = 28/240 = 0.12 \\\\"
      ]
    },
    {
      "cell_type": "markdown",
      "metadata": {
        "id": "9hxh70yrxS50"
      },
      "source": [
        "## (25 points) LSH Problems from the Book\n",
        "\n",
        "From MMDS [Chapter 3](http://infolab.stanford.edu/~ullman/mmds/ch3n.pdf), do the following problems:\n",
        "\n",
        "* Exercise 3.1.2 (Page 78)\n",
        "* Exercise 3.2.2 (Page 81)\n",
        "* Exercise 3.3.3 (Page 90)\n",
        "* Exercise 3.4.1 (Page 96)\n",
        "* Exercise 3.4.2 (Page 96)\n",
        "\n",
        "Please add cells below with your answers (explanation and detail of calculation are required). \n"
      ]
    },
    {
      "cell_type": "markdown",
      "source": [
        "**Exercise 3.1.2**  \n",
        "\n",
        "**A** = {1, 1, 1, 2} \\\\\n",
        "**B** = {1, 1, 2, 2, 3} \\\\\n",
        "**C** = {1, 2, 3, 4} \\\\\n",
        "\n",
        "Jaccard similarities are:\n",
        "\n",
        "**J(A,B)** = (A ⋂ B) / (A ⋃ B) =  3/9 = 1/3 \\\\\n",
        "**J(B,C)** = (B ⋂ C) / (B ⋃ C) =  3/9 = 1/3 \\\\\n",
        "**J(A,C)** = (A ⋂ C) / (A ⋃ C) =  2/8 = 1/4 \\\\"
      ],
      "metadata": {
        "id": "AkGunuzUk8Bo"
      }
    },
    {
      "cell_type": "markdown",
      "source": [
        "**Exercise 3.2.2** \n",
        "\n",
        "All the stopwords are word of length fewer than 3. So finding all such words in the sentence and combining with next two words, we get following shingles: \\\\\n",
        "- The most effective\n",
        "- way to represent\n",
        "- to represent documents\n",
        "- as sets, for\n",
        "- for the purpose\n",
        "- the purpose of\n",
        "- of identifying lexically\n",
        "- is to construct\n",
        "- to construct from\n",
        "- the document the\n",
        "- the set of\n",
        "- set of short\n",
        "- of short strings\n"
      ],
      "metadata": {
        "id": "C3QEs0gQk8bo"
      }
    },
    {
      "cell_type": "markdown",
      "source": [
        "**Exercise 3.3.3** \\\\\n",
        "**a)** \\\\\n",
        "\n",
        "original matrix \n",
        "\n",
        " Element |s1 | s2| s3 | s4 |\n",
        " --- |--- | --- | --- | ---|\n",
        " 0 | 0 | 1 | 0 | 1\n",
        " 1 | 0 | 1 | 0 | 0\n",
        " 2 | 1 | 0 | 0 | 1\n",
        " 3 | 0 | 0 | 1 | 0\n",
        " 4 | 0 | 0 | 1 | 1\n",
        " 5 | 1 | 0 | 0 | 0\n",
        "\n",
        " permutations matrix\n",
        "\n",
        "\n",
        " Elemenet | h1 | h2 | h3 \n",
        " --- | --- | --- | ---\n",
        " 0 | 1 | 2 | 2\n",
        " 1 | 3 | 5 | 1\n",
        " 2 | 5 | 2 | 0\n",
        " 3 | 1 | 5 | 5\n",
        " 4 | 3 | 2 | 4\n",
        " 5 | 5 | 5 | 3\n",
        "\n",
        "\\\\\n",
        "b)\n",
        "**h<sub>3</sub>(x)**  is a true permutation out of 3 hash functions.\n",
        "\n",
        "\\\\\n",
        "c) signature matrix\n",
        "\n",
        " s1 | s2| s3 | s4 |\n",
        " --- | --- | --- | ---|\n",
        " 5 | 1 | 1 | 1\n",
        " 2 | 2 | 2 | 2\n",
        " 0 | 1 | 4 | 0\n",
        "\n",
        "\\\\\n",
        "**Estimate jaccard probabilities**\n",
        "\n",
        " J<sub>e</sub>(s1,s2) = 1/3 \\\\\n",
        " J<sub>e</sub>(s1,s3) = 1/3 \\\\\n",
        " J<sub>e</sub>(s1,s4) = 2/3 \\\\\n",
        " J<sub>e</sub>(s2,s3) = 2/3 \\\\\n",
        " J<sub>e</sub>(s2,s4) = 2/3 \\\\\n",
        " J<sub>e</sub>(s3,s4) = 2/3 \\\\\n",
        "\n",
        "\n",
        "**True jaccard probabilities**\n",
        "\n",
        " J<sub>t</sub>(s1,s2) = 0 \\\\\n",
        " J<sub>t</sub>(s1,s3) = 0 \\\\\n",
        " J<sub>t</sub>(s1,s4) = 1/4 \\\\\n",
        " J<sub>t</sub>(s2,s3) = 0 \\\\\n",
        " J<sub>t</sub>(s2,s4) = 1/4 \\\\\n",
        " J<sub>t</sub>(s3,s4) = 1/4 \\\\\n",
        "\n",
        "\n",
        "**None of the estimated jaccard probabilities are close to true probabilities.**"
      ],
      "metadata": {
        "id": "PXQfc6_yk8u4"
      }
    },
    {
      "cell_type": "markdown",
      "source": [
        "**Exercise 3.4.1** \n",
        "\n",
        "**S-curve:**   $ 1 - (1-s^r)^b $"
      ],
      "metadata": {
        "id": "eDsEzCgck9C8"
      }
    },
    {
      "cell_type": "code",
      "source": [
        "import matplotlib.pyplot as plt\n",
        "s = [0.1, 0.2, 0.3, 0.4, 0.5, 0.6, 0.7, 0.8, 0.9]\n",
        "r = [3,6,5]\n",
        "b = [10,20,50]\n",
        "\n",
        "for i in range(0,3):\n",
        "  print(\"r = {}, b = {}\\n\".format(r[i],b[i]))\n",
        "  values = []\n",
        "  for xi in s:\n",
        "    temp = pow(xi, r[i])\n",
        "    p = pow(1 - temp, b[i])\n",
        "    yi = 1-p\n",
        "    values.append(yi)\n",
        "        \n",
        "  plt.plot(s, values)\n",
        "  plt.xlabel(\"Jaccard Similarity\")\n",
        "  plt.ylabel(\"Probability\")\n",
        "  plt.title(\"S-curve\")\n",
        "  plt.show()\n",
        "\n",
        "  print()\n",
        "        "
      ],
      "metadata": {
        "colab": {
          "base_uri": "https://localhost:8080/",
          "height": 1000
        },
        "id": "jimCBMqtFTCN",
        "outputId": "a735e885-cbd4-4948-df89-240f61beb887"
      },
      "execution_count": null,
      "outputs": [
        {
          "output_type": "stream",
          "name": "stdout",
          "text": [
            "r = 3, b = 10\n",
            "\n"
          ]
        },
        {
          "output_type": "display_data",
          "data": {
            "image/png": "[encoded data removed]",
            "text/plain": [
              "<Figure size 432x288 with 1 Axes>"
            ]
          },
          "metadata": {
            "needs_background": "light"
          }
        },
        {
          "output_type": "stream",
          "name": "stdout",
          "text": [
            "\n",
            "r = 6, b = 20\n",
            "\n"
          ]
        },
        {
          "output_type": "display_data",
          "data": {
            "image/png": "[encoded data removed]",
            "text/plain": [
              "<Figure size 432x288 with 1 Axes>"
            ]
          },
          "metadata": {
            "needs_background": "light"
          }
        },
        {
          "output_type": "stream",
          "name": "stdout",
          "text": [
            "\n",
            "r = 5, b = 50\n",
            "\n"
          ]
        },
        {
          "output_type": "display_data",
          "data": {
            "image/png": "[encoded data removed]",
            "text/plain": [
              "<Figure size 432x288 with 1 Axes>"
            ]
          },
          "metadata": {
            "needs_background": "light"
          }
        },
        {
          "output_type": "stream",
          "name": "stdout",
          "text": [
            "\n"
          ]
        }
      ]
    },
    {
      "cell_type": "markdown",
      "source": [
        "**Exercise 3.4.2** \\\\\n",
        "\n",
        "**S-curve:**   $ 1 - (1-s^r)^b $ \\\\\n",
        "$1/2 =  1 - (1-s^r)^b $ \\\\\n",
        "\n",
        "**s** $= (1 - (1/2)^{(1/b)})^{(1/r)}$ \\\\\n",
        "\n",
        "**estimate:**  $ (1/b)^{(1/r)} $"
      ],
      "metadata": {
        "id": "VCCHFLFfk9RR"
      }
    },
    {
      "cell_type": "code",
      "source": [
        "r = [3,6,5]\n",
        "b = [10,20,50]\n",
        "\n",
        "for i in range(3):\n",
        "    temp = 1 - pow((1/2),(1/b[i]))\n",
        "    s = pow(temp,(1/r[i]))\n",
        "    estimate = pow((1/b[i]),(1/r[i]))\n",
        "    print('(r = {}, b = {}, s = {}, estimate = {}'.format(r[i], b[i],s,estimate))"
      ],
      "metadata": {
        "colab": {
          "base_uri": "https://localhost:8080/"
        },
        "id": "XFPjFqzXH6sy",
        "outputId": "e20918c6-776c-4abf-f5c6-6e295a7c4ed5"
      },
      "execution_count": null,
      "outputs": [
        {
          "output_type": "stream",
          "name": "stdout",
          "text": [
            "(r = 3, b = 10, s = 0.4060881340677083, estimate = 0.4641588833612779\n",
            "(r = 6, b = 20, s = 0.5693533868256982, estimate = 0.6069622310029172\n",
            "(r = 5, b = 50, s = 0.4243944803687326, estimate = 0.45730505192732634\n"
          ]
        }
      ]
    }
  ],
  "metadata": {
    "colab": {
      "collapsed_sections": [],
      "name": "831000250_hw2.ipynb",
      "provenance": []
    },
    "kernelspec": {
      "display_name": "Python 3",
      "language": "python",
      "name": "python3"
    },
    "language_info": {
      "codemirror_mode": {
        "name": "ipython",
        "version": 3
      },
      "file_extension": ".py",
      "mimetype": "text/x-python",
      "name": "python",
      "nbconvert_exporter": "python",
      "pygments_lexer": "ipython3",
      "version": "3.8.8"
    },
    "accelerator": "TPU"
  },
  "nbformat": 4,
  "nbformat_minor": 0
}